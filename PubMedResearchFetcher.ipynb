{
  "nbformat": 4,
  "nbformat_minor": 0,
  "metadata": {
    "colab": {
      "provenance": []
    },
    "kernelspec": {
      "name": "python3",
      "display_name": "Python 3"
    },
    "language_info": {
      "name": "python"
    }
  },
  "cells": [
    {
      "cell_type": "code",
      "source": [
        "pip install Bio\n"
      ],
      "metadata": {
        "colab": {
          "base_uri": "https://localhost:8080/"
        },
        "id": "ypSBnKurV2W0",
        "outputId": "c5595492-d336-4009-e6a0-811db7660bda"
      },
      "execution_count": 1,
      "outputs": [
        {
          "output_type": "stream",
          "name": "stdout",
          "text": [
            "Collecting Bio\n",
            "  Downloading bio-1.7.1-py3-none-any.whl.metadata (5.7 kB)\n",
            "Collecting biopython>=1.80 (from Bio)\n",
            "  Downloading biopython-1.84-cp310-cp310-manylinux_2_17_x86_64.manylinux2014_x86_64.whl.metadata (12 kB)\n",
            "Collecting gprofiler-official (from Bio)\n",
            "  Downloading gprofiler_official-1.0.0-py3-none-any.whl.metadata (11 kB)\n",
            "Collecting mygene (from Bio)\n",
            "  Downloading mygene-3.2.2-py2.py3-none-any.whl.metadata (10 kB)\n",
            "Requirement already satisfied: pandas in /usr/local/lib/python3.10/dist-packages (from Bio) (2.2.2)\n",
            "Requirement already satisfied: pooch in /usr/local/lib/python3.10/dist-packages (from Bio) (1.8.2)\n",
            "Requirement already satisfied: requests in /usr/local/lib/python3.10/dist-packages (from Bio) (2.32.3)\n",
            "Requirement already satisfied: tqdm in /usr/local/lib/python3.10/dist-packages (from Bio) (4.67.1)\n",
            "Requirement already satisfied: numpy in /usr/local/lib/python3.10/dist-packages (from biopython>=1.80->Bio) (1.26.4)\n",
            "Collecting biothings-client>=0.2.6 (from mygene->Bio)\n",
            "  Downloading biothings_client-0.3.1-py2.py3-none-any.whl.metadata (9.8 kB)\n",
            "Requirement already satisfied: python-dateutil>=2.8.2 in /usr/local/lib/python3.10/dist-packages (from pandas->Bio) (2.8.2)\n",
            "Requirement already satisfied: pytz>=2020.1 in /usr/local/lib/python3.10/dist-packages (from pandas->Bio) (2024.2)\n",
            "Requirement already satisfied: tzdata>=2022.7 in /usr/local/lib/python3.10/dist-packages (from pandas->Bio) (2024.2)\n",
            "Requirement already satisfied: platformdirs>=2.5.0 in /usr/local/lib/python3.10/dist-packages (from pooch->Bio) (4.3.6)\n",
            "Requirement already satisfied: packaging>=20.0 in /usr/local/lib/python3.10/dist-packages (from pooch->Bio) (24.2)\n",
            "Requirement already satisfied: charset-normalizer<4,>=2 in /usr/local/lib/python3.10/dist-packages (from requests->Bio) (3.4.1)\n",
            "Requirement already satisfied: idna<4,>=2.5 in /usr/local/lib/python3.10/dist-packages (from requests->Bio) (3.10)\n",
            "Requirement already satisfied: urllib3<3,>=1.21.1 in /usr/local/lib/python3.10/dist-packages (from requests->Bio) (2.3.0)\n",
            "Requirement already satisfied: certifi>=2017.4.17 in /usr/local/lib/python3.10/dist-packages (from requests->Bio) (2024.12.14)\n",
            "Requirement already satisfied: six>=1.5 in /usr/local/lib/python3.10/dist-packages (from python-dateutil>=2.8.2->pandas->Bio) (1.17.0)\n",
            "Downloading bio-1.7.1-py3-none-any.whl (280 kB)\n",
            "\u001b[2K   \u001b[90m━━━━━━━━━━━━━━━━━━━━━━━━━━━━━━━━━━━━━━━━\u001b[0m \u001b[32m281.0/281.0 kB\u001b[0m \u001b[31m4.8 MB/s\u001b[0m eta \u001b[36m0:00:00\u001b[0m\n",
            "\u001b[?25hDownloading biopython-1.84-cp310-cp310-manylinux_2_17_x86_64.manylinux2014_x86_64.whl (3.2 MB)\n",
            "\u001b[2K   \u001b[90m━━━━━━━━━━━━━━━━━━━━━━━━━━━━━━━━━━━━━━━━\u001b[0m \u001b[32m3.2/3.2 MB\u001b[0m \u001b[31m41.4 MB/s\u001b[0m eta \u001b[36m0:00:00\u001b[0m\n",
            "\u001b[?25hDownloading gprofiler_official-1.0.0-py3-none-any.whl (9.3 kB)\n",
            "Downloading mygene-3.2.2-py2.py3-none-any.whl (5.4 kB)\n",
            "Downloading biothings_client-0.3.1-py2.py3-none-any.whl (29 kB)\n",
            "Installing collected packages: biopython, gprofiler-official, biothings-client, mygene, Bio\n",
            "Successfully installed Bio-1.7.1 biopython-1.84 biothings-client-0.3.1 gprofiler-official-1.0.0 mygene-3.2.2\n"
          ]
        }
      ]
    },
    {
      "cell_type": "code",
      "execution_count": 2,
      "metadata": {
        "colab": {
          "base_uri": "https://localhost:8080/"
        },
        "id": "mC6DTnuAVypb",
        "outputId": "3c995604-c8da-4ab5-8bac-580f29671243"
      },
      "outputs": [
        {
          "output_type": "stream",
          "name": "stdout",
          "text": [
            "Enter your search query: \"type 2 diabetes\" AND 2020:2024[DP]\n",
            "Enter the maximum number of results to fetch: 25\n",
            "Enter your email address: pawar@12gmail.com\n",
            "Searching PubMed for: \"type 2 diabetes\" AND 2020:2024[DP]\n",
            "Results saved to pubmed_papers.csv\n"
          ]
        }
      ],
      "source": [
        "import re\n",
        "from Bio import Entrez\n",
        "import csv\n",
        "\n",
        "def fetch_pubmed_papers(query, max_results=10):\n",
        "    \"\"\"Fetch research papers from PubMed based on a user-specified query.\n",
        "\n",
        "    Args:\n",
        "        query (str): The search query.\n",
        "        max_results (int): Maximum number of results to fetch.\n",
        "\n",
        "    Returns:\n",
        "        list: A list of dictionaries containing research paper details.\n",
        "    \"\"\"\n",
        "    try:\n",
        "        print(f\"Searching PubMed for: {query}\")\n",
        "        handle = Entrez.esearch(db=\"pubmed\", term=query, retmax=max_results)\n",
        "        search_results = Entrez.read(handle)\n",
        "        handle.close()\n",
        "\n",
        "        ids = search_results[\"IdList\"]\n",
        "        if not ids:\n",
        "            print(\"No results found.\")\n",
        "            return []\n",
        "\n",
        "        papers = []\n",
        "        for id in ids:\n",
        "            paper_handle = Entrez.esummary(db=\"pubmed\", id=id)\n",
        "            summary = Entrez.read(paper_handle)\n",
        "            paper_handle.close()\n",
        "\n",
        "            try:\n",
        "                paper_info = summary[0]\n",
        "\n",
        "                # Fetch full article details\n",
        "                details_handle = Entrez.efetch(db=\"pubmed\", id=id, rettype=\"medline\", retmode=\"text\")\n",
        "                details = details_handle.read()\n",
        "                details_handle.close()\n",
        "\n",
        "                # Extract non-academic authors and company names from affiliations\n",
        "                non_academic_author = extract_non_academic_authors(details)\n",
        "                company_name = extract_company_names(details)\n",
        "\n",
        "                # Extract associated email\n",
        "                associated_email = extract_emails(details)\n",
        "\n",
        "                papers.append({\n",
        "                    \"PubMedID\": id,\n",
        "                    \"Title\": paper_info.get(\"Title\", \"N/A\"),\n",
        "                    \"PubDate\": paper_info.get(\"PubDate\", \"N/A\"),\n",
        "                    \"NonAcademicAuthor\": non_academic_author,\n",
        "                    \"CompanyName\": company_name,\n",
        "                    \"AssociatedEmail\": associated_email\n",
        "                })\n",
        "            except (KeyError, IndexError) as e:\n",
        "                print(f\"Error parsing summary for ID {id}: {e}\")\n",
        "\n",
        "        return papers\n",
        "\n",
        "    except Exception as e:\n",
        "        print(f\"An error occurred: {e}\")\n",
        "        return []\n",
        "\n",
        "def extract_non_academic_authors(details):\n",
        "    \"\"\"Extract non-academic authors from affiliations.\"\"\"\n",
        "    affiliations = re.findall(r\"Affiliation:\\s*(.*)\", details)\n",
        "    for aff in affiliations:\n",
        "        if \"Inc.\" in aff or \"LLC\" in aff or \"Pharma\" in aff:\n",
        "            return aff\n",
        "    return \"N/A\"\n",
        "\n",
        "def extract_company_names(details):\n",
        "    \"\"\"Extract company names from affiliations.\"\"\"\n",
        "    affiliations = re.findall(r\"Affiliation:\\s*(.*)\", details)\n",
        "    for aff in affiliations:\n",
        "        match = re.search(r\"(.*(?:Inc\\.|LLC|Pharma))\", aff)\n",
        "        if match:\n",
        "            return match.group(1)\n",
        "    return \"N/A\"\n",
        "\n",
        "def extract_emails(details):\n",
        "    \"\"\"Extract email addresses from details.\"\"\"\n",
        "    emails = re.findall(r\"[a-zA-Z0-9._%+-]+@[a-zA-Z0-9.-]+\\.[a-zA-Z]{2,}\", details)\n",
        "    return emails[0] if emails else \"N/A\"\n",
        "\n",
        "def save_to_csv(papers, filename=\"pubmed_papers.csv\"):\n",
        "    \"\"\"Save the fetched papers to a CSV file.\"\"\"\n",
        "    try:\n",
        "        with open(filename, mode=\"w\", newline=\"\", encoding=\"utf-8\") as file:\n",
        "            writer = csv.DictWriter(file, fieldnames=[\n",
        "                \"PubMedID\", \"Title\", \"PubDate\", \"NonAcademicAuthor\", \"CompanyName\", \"AssociatedEmail\"\n",
        "            ])\n",
        "            writer.writeheader()\n",
        "            writer.writerows(papers)\n",
        "        print(f\"Results saved to {filename}\")\n",
        "    except Exception as e:\n",
        "        print(f\"An error occurred while saving to CSV: {e}\")\n",
        "\n",
        "def get_user_email():\n",
        "    \"\"\"Prompt the user to enter a valid email address.\"\"\"\n",
        "    while True:\n",
        "        email = input(\"Enter your email address: \")\n",
        "        if re.match(r\"^[a-zA-Z0-9._%+-]+@[a-zA-Z0-9.-]+\\.[a-zA-Z]{2,}$\", email):\n",
        "            return email\n",
        "        else:\n",
        "            print(\"Invalid email address. Please try again.\")\n",
        "\n",
        "def get_valid_max_results():\n",
        "    \"\"\"Prompt the user to enter a valid number for max_results.\"\"\"\n",
        "    while True:\n",
        "        try:\n",
        "            max_results = int(input(\"Enter the maximum number of results to fetch: \"))\n",
        "            if max_results > 0:\n",
        "                return max_results\n",
        "            else:\n",
        "                print(\"Please enter a positive number.\")\n",
        "        except ValueError:\n",
        "            print(\"Invalid input. Please enter a valid integer.\")\n",
        "\n",
        "if __name__ == \"__main__\":\n",
        "    query = input(\"Enter your search query: \")\n",
        "    max_results = get_valid_max_results()\n",
        "    Entrez.email = get_user_email()\n",
        "\n",
        "    papers = fetch_pubmed_papers(query, max_results)\n",
        "\n",
        "    if papers:\n",
        "        save_to_csv(papers)\n",
        "    else:\n",
        "        print(\"No papers found.\")\n"
      ]
    },
    {
      "cell_type": "code",
      "source": [
        "!git config --global user.name \"svpawar3039\"\n",
        "!git config --global user.email \"svpawar3039@gmail.com\"\n"
      ],
      "metadata": {
        "id": "yYYup7LxV1Wr"
      },
      "execution_count": 3,
      "outputs": []
    },
    {
      "cell_type": "code",
      "source": [
        "!git clone https://github.com/svpawar3039/PubMedResearchFetcher.git\n"
      ],
      "metadata": {
        "colab": {
          "base_uri": "https://localhost:8080/"
        },
        "id": "G0GbCd9t6QAk",
        "outputId": "7132c0be-726b-4727-fcca-c042e8bbd45c"
      },
      "execution_count": 4,
      "outputs": [
        {
          "output_type": "stream",
          "name": "stdout",
          "text": [
            "Cloning into 'PubMedResearchFetcher'...\n",
            "remote: Enumerating objects: 6, done.\u001b[K\n",
            "remote: Counting objects: 100% (6/6), done.\u001b[K\n",
            "remote: Compressing objects: 100% (4/4), done.\u001b[K\n",
            "remote: Total 6 (delta 0), reused 0 (delta 0), pack-reused 0 (from 0)\u001b[K\n",
            "Receiving objects: 100% (6/6), done.\n"
          ]
        }
      ]
    },
    {
      "cell_type": "code",
      "source": [
        "!mv https://colab.research.google.com/drive/1PxaBbCGQzVETuw7AQOqy-i5xsBhFldCR/PubMedResearchFetcher /content/PubMedResearchFetcher/"
      ],
      "metadata": {
        "colab": {
          "base_uri": "https://localhost:8080/"
        },
        "id": "GsVUTbZ66Y55",
        "outputId": "539b1831-b0f3-4f3b-cd9d-612df17fa18a"
      },
      "execution_count": 7,
      "outputs": [
        {
          "output_type": "stream",
          "name": "stdout",
          "text": [
            "mv: cannot stat 'https://colab.research.google.com/drive/1PxaBbCGQzVETuw7AQOqy-i5xsBhFldCR/PubMedResearchFetcher': No such file or directory\n"
          ]
        }
      ]
    },
    {
      "cell_type": "code",
      "source": [],
      "metadata": {
        "id": "ROk-WxTU67eM"
      },
      "execution_count": null,
      "outputs": []
    }
  ]
}